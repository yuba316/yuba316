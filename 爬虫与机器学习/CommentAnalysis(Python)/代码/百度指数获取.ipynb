{
 "cells": [
  {
   "cell_type": "markdown",
   "metadata": {},
   "source": [
    "### 百度指数获取\n",
    "#### 郑宇浩 41621101\n",
    "#### 该文件主要对应于论文中的注释[7]和[8]，实现百度指数时序的构建与8个金融词汇的时差相关系数与特征重要性的求算"
   ]
  },
  {
   "cell_type": "code",
   "execution_count": 1,
   "metadata": {},
   "outputs": [],
   "source": [
    "import pandas as pd\n",
    "import tushare as ts\n",
    "import numpy as np\n",
    "from sklearn.ensemble import RandomForestClassifier\n",
    "import matplotlib.pyplot as plt\n",
    "import os\n",
    "path=os.path.abspath('.')"
   ]
  },
  {
   "cell_type": "markdown",
   "metadata": {},
   "source": [
    "#### 1. 数据导入：请务必先将所需文件Upload到jupyter中，文件位于与该notebook同目录下的文件夹，文件名为百度指数.xlsx"
   ]
  },
  {
   "cell_type": "code",
   "execution_count": 2,
   "metadata": {},
   "outputs": [],
   "source": [
    "index_ts=pd.read_excel(path+\"\\百度指数.xlsx\",index_col=0)\n",
    "index_word=index_ts.columns # 得到八个金融词汇2014年3月3日至2016年2月29日的百度搜索指数时间序列\n",
    "stock_300=list(reversed(list(ts.get_hist_data(\"hs300\",'2014-03-03','2016-02-29','W')['close']))) # 得到对应时间下的沪深300指数周收盘价"
   ]
  },
  {
   "cell_type": "markdown",
   "metadata": {},
   "source": [
    "#### 2. 数据处理：对百度指数时序进行周期为4的移动平均"
   ]
  },
  {
   "cell_type": "code",
   "execution_count": 3,
   "metadata": {},
   "outputs": [],
   "source": [
    "for i in index_word:\n",
    "    new_name=\" \"+i\n",
    "    index_ts[new_name]=index_ts[i].rolling(window=4).mean()\n",
    "\n",
    "index_word_mavg=index_ts.columns[8:]"
   ]
  },
  {
   "cell_type": "markdown",
   "metadata": {},
   "source": [
    "#### 3. 求算时差相关系数：算法请参考论文中的公式(1)"
   ]
  },
  {
   "cell_type": "code",
   "execution_count": 4,
   "metadata": {},
   "outputs": [],
   "source": [
    "n=len(index_word_mavg)\n",
    "ahead_corr={}\n",
    "for i in index_word_mavg:\n",
    "    corr=0\n",
    "    ahead=0\n",
    "    for j in range(1,10,1):\n",
    "        matrix=np.array([stock_300[3+j:],index_ts[i][3:-j]])\n",
    "        if(abs(np.corrcoef(matrix)[0,1])>abs(corr)):\n",
    "            corr=np.corrcoef(matrix)[0,1]\n",
    "            ahead=j\n",
    "    ahead_corr[i]=[corr,ahead]\n",
    "sort=sorted(ahead_corr.items(),key=lambda x:x[1],reverse=True)\n",
    "new_ahead_corr={}\n",
    "for i in range(n):\n",
    "    new_ahead_corr[sort[i][0]]=sort[i][1]"
   ]
  },
  {
   "cell_type": "code",
   "execution_count": 5,
   "metadata": {},
   "outputs": [
    {
     "data": {
      "text/plain": [
       "{' 股票代码': [0.8160103704293675, 1],\n",
       " ' 股票交易': [0.7866945083259231, 1],\n",
       " ' 股票市场': [0.7522953167421741, 1],\n",
       " ' 股价': [0.6510626213328183, 1],\n",
       " ' 股票行情': [0.6239632670793692, 1],\n",
       " ' 行情': [0.512280597908519, 1],\n",
       " ' 股市': [0.4204174560979708, 1],\n",
       " ' 交易': [0.26713189004711274, 5]}"
      ]
     },
     "execution_count": 5,
     "metadata": {},
     "output_type": "execute_result"
    }
   ],
   "source": [
    "new_ahead_corr # [时差相关系数，提前期]"
   ]
  },
  {
   "cell_type": "markdown",
   "metadata": {},
   "source": [
    "#### 4. 利用随机森林求算特征重要性"
   ]
  },
  {
   "cell_type": "code",
   "execution_count": 6,
   "metadata": {},
   "outputs": [],
   "source": [
    "n=len(index_ts.index)\n",
    "m=len(index_word_mavg)\n",
    "data=np.zeros(shape=(n-4,m))\n",
    "for i in range(4,n,1):\n",
    "    for j in range(m):\n",
    "        increase=(index_ts[index_word_mavg[j]][i]-index_ts[index_word_mavg[j]][i-1])/index_ts[index_word_mavg[j]][i-1]\n",
    "        data[i-4][j]=increase\n",
    "\n",
    "# 将沪深300指数的周收盘价波动率大小作为类别变量，分类标准见表2\n",
    "\n",
    "target=np.zeros(n-1)\n",
    "for i in range(1,n,1):\n",
    "    increase=(stock_300[i]-stock_300[i-1])/stock_300[i-1]\n",
    "    if(increase<=0.02 and increase>=-0.02):\n",
    "        target[i-1]=0\n",
    "    elif(increase>0):\n",
    "        if(increase<=0.06):\n",
    "            target[i-1]=1\n",
    "        else:\n",
    "            target[i-1]=2\n",
    "    else:\n",
    "        if(increase>=-0.06):\n",
    "            target[i-1]=-1\n",
    "        else:\n",
    "            target[i-1]=-2"
   ]
  },
  {
   "cell_type": "code",
   "execution_count": 7,
   "metadata": {},
   "outputs": [],
   "source": [
    "# 将8个金融词汇的百度搜索指数波动率作为特征输入随机森林分类器\n",
    "\n",
    "score={}\n",
    "forest=RandomForestClassifier(n_estimators=10000,random_state=0,n_jobs=1)\n",
    "forest.fit(data,target[3:])\n",
    "importance=forest.feature_importances_\n",
    "index_word_mavg=index_word_mavg[importance.argsort()]\n",
    "importance.sort()\n",
    "for i in range(m):\n",
    "    score[index_word_mavg[m-1-i]]=importance[m-1-i]"
   ]
  },
  {
   "cell_type": "code",
   "execution_count": 8,
   "metadata": {},
   "outputs": [
    {
     "data": {
      "text/plain": [
       "{' 股票市场': 0.1559357451493813,\n",
       " ' 股票代码': 0.14371916030351634,\n",
       " ' 股票交易': 0.13595757102654443,\n",
       " ' 交易': 0.12042137004781718,\n",
       " ' 股市': 0.11843952630791946,\n",
       " ' 股票行情': 0.11190796061257723,\n",
       " ' 股价': 0.10794838685804914,\n",
       " ' 行情': 0.10567027969419428}"
      ]
     },
     "execution_count": 8,
     "metadata": {},
     "output_type": "execute_result"
    }
   ],
   "source": [
    "score"
   ]
  },
  {
   "cell_type": "markdown",
   "metadata": {},
   "source": [
    "#### 5. 数据可视化"
   ]
  },
  {
   "cell_type": "code",
   "execution_count": 9,
   "metadata": {},
   "outputs": [
    {
     "data": {
      "image/png": "[encoded data removed]",
      "text/plain": [
       "<Figure size 432x288 with 1 Axes>"
      ]
     },
     "metadata": {
      "needs_background": "light"
     },
     "output_type": "display_data"
    }
   ],
   "source": [
    "plt.rcParams['font.sans-serif']=['SimHei']\n",
    "plt.rcParams['axes.unicode_minus']=False\n",
    "plt.bar(range(m),importance,align='center')\n",
    "plt.xticks(range(m),index_word_mavg,rotation=60)\n",
    "plt.xlim([-1,m])\n",
    "plt.tight_layout()\n",
    "plt.show()"
   ]
  }
 ],
 "metadata": {
  "kernelspec": {
   "display_name": "Python 3",
   "language": "python",
   "name": "python3"
  },
  "language_info": {
   "codemirror_mode": {
    "name": "ipython",
    "version": 3
   },
   "file_extension": ".py",
   "mimetype": "text/x-python",
   "name": "python",
   "nbconvert_exporter": "python",
   "pygments_lexer": "ipython3",
   "version": "3.6.5"
  }
 },
 "nbformat": 4,
 "nbformat_minor": 2
}
