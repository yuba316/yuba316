{
 "cells": [
  {
   "cell_type": "markdown",
   "metadata": {},
   "source": [
    "### 金融情感词袋构建\n",
    "#### 郑宇浩 41621101\n",
    "#### 该文件主要对应于论文中的注释[9]，实现金融情感词袋的获取，最终结果保存于“微博评论获取”文件夹下"
   ]
  },
  {
   "cell_type": "code",
   "execution_count": 1,
   "metadata": {},
   "outputs": [],
   "source": [
    "import pandas as pd\n",
    "import matplotlib.pyplot as plt\n",
    "import os\n",
    "path=os.path.abspath('.')"
   ]
  },
  {
   "cell_type": "markdown",
   "metadata": {},
   "source": [
    "#### 1. 数据导入与清洗：请务必先将所需文件Upload到jupyter中，文件位于与该notebook同目录下的文件夹，文件名为个股研报.xlsx"
   ]
  },
  {
   "cell_type": "code",
   "execution_count": 2,
   "metadata": {},
   "outputs": [
    {
     "name": "stderr",
     "output_type": "stream",
     "text": [
      "Building prefix dict from the default dictionary ...\n",
      "Loading model from cache C:\\Users\\PC\\AppData\\Local\\Temp\\jieba.cache\n",
      "Loading model cost 1.458 seconds.\n",
      "Prefix dict has been built succesfully.\n"
     ]
    }
   ],
   "source": [
    "import jieba\n",
    "from string import punctuation as punc\n",
    "punc=punc+\" 、，；：‘’“”—。？！……【】（）《》－\"\n",
    "\n",
    "df=pd.read_excel(path+\"\\个股研报.xlsx\",encoding = \"gb18030\")\n",
    "\n",
    "def cut_words(text): # 去除文本当中的标点符号\n",
    "    clean=\"\".join(w for w in text if w not in punc)\n",
    "    clean=\" \".join(jieba.cut(clean))\n",
    "    return clean\n",
    "df[\"cut_words\"]=df[\"analysis\"].apply(cut_words)"
   ]
  },
  {
   "cell_type": "markdown",
   "metadata": {},
   "source": [
    "#### 2. 金融词袋建立"
   ]
  },
  {
   "cell_type": "code",
   "execution_count": 3,
   "metadata": {},
   "outputs": [
    {
     "name": "stderr",
     "output_type": "stream",
     "text": [
      "F:\\Anaconda\\Anaconda\\lib\\site-packages\\ipykernel_launcher.py:7: SettingWithCopyWarning: \n",
      "A value is trying to be set on a copy of a slice from a DataFrame.\n",
      "Try using .loc[row_indexer,col_indexer] = value instead\n",
      "\n",
      "See the caveats in the documentation: http://pandas.pydata.org/pandas-docs/stable/indexing.html#indexing-view-versus-copy\n",
      "  import sys\n"
     ]
    }
   ],
   "source": [
    "from sklearn.model_selection import train_test_split\n",
    "from sklearn.feature_extraction.text import CountVectorizer\n",
    "\n",
    "# df.strategy为个股研报中的投资建议，买入记为1，卖出记为0，作为分类标签\n",
    "\n",
    "X=df[[\"analysis\"]]\n",
    "X[\"cut_words\"]=df[\"cut_words\"]\n",
    "y=df.strategy\n",
    "X_train, X_test, y_train, y_test = train_test_split(X, y, test_size=0.5, random_state=20190521)\n",
    "\n",
    "# 切词后去除停词，构建未分类的金融词袋\n",
    "\n",
    "def get_custom_stopwords(stop_words_file): # 读取存储停词的文档，构建存储停词的数组并返回\n",
    "    with open(stop_words_file,encoding = \"utf-8-sig\") as f:\n",
    "        stopwords = f.read()\n",
    "    stopwords_list = stopwords.split('\\n')\n",
    "    custom_stopwords_list = [i for i in stopwords_list]\n",
    "    return custom_stopwords_list\n",
    "\n",
    "stopwords = get_custom_stopwords(path+\"\\stopwordsHIT.txt\")\n",
    "max_df = 0.8 # 词汇出现总频率大于80%则认为太过于普通\n",
    "min_df = 3 # 词汇出现总次数小于3则认为太过于特殊\n",
    "vect = CountVectorizer(max_df = max_df,min_df = min_df,stop_words=stopwords) # 去除停词，设置词汇出现的最低次数与最高频率限制\n",
    "term_matrix = pd.DataFrame(vect.fit_transform(X_train.cut_words).toarray(), columns=vect.get_feature_names()) # 生成未分类的金融词袋"
   ]
  },
  {
   "cell_type": "code",
   "execution_count": 4,
   "metadata": {},
   "outputs": [
    {
     "data": {
      "text/html": [
       "<div>\n",
       "<style scoped>\n",
       "    .dataframe tbody tr th:only-of-type {\n",
       "        vertical-align: middle;\n",
       "    }\n",
       "\n",
       "    .dataframe tbody tr th {\n",
       "        vertical-align: top;\n",
       "    }\n",
       "\n",
       "    .dataframe thead th {\n",
       "        text-align: right;\n",
       "    }\n",
       "</style>\n",
       "<table border=\"1\" class=\"dataframe\">\n",
       "  <thead>\n",
       "    <tr style=\"text-align: right;\">\n",
       "      <th></th>\n",
       "      <th>016</th>\n",
       "      <th>10</th>\n",
       "      <th>101</th>\n",
       "      <th>12</th>\n",
       "      <th>138</th>\n",
       "      <th>15</th>\n",
       "      <th>17</th>\n",
       "      <th>18</th>\n",
       "      <th>19</th>\n",
       "      <th>1920</th>\n",
       "      <th>...</th>\n",
       "      <th>需求</th>\n",
       "      <th>面临</th>\n",
       "      <th>项目</th>\n",
       "      <th>预测</th>\n",
       "      <th>领先</th>\n",
       "      <th>领域</th>\n",
       "      <th>驾驶</th>\n",
       "      <th>高于</th>\n",
       "      <th>高速</th>\n",
       "      <th>龙头</th>\n",
       "    </tr>\n",
       "  </thead>\n",
       "  <tbody>\n",
       "    <tr>\n",
       "      <th>0</th>\n",
       "      <td>0</td>\n",
       "      <td>0</td>\n",
       "      <td>0</td>\n",
       "      <td>0</td>\n",
       "      <td>0</td>\n",
       "      <td>0</td>\n",
       "      <td>0</td>\n",
       "      <td>0</td>\n",
       "      <td>0</td>\n",
       "      <td>0</td>\n",
       "      <td>...</td>\n",
       "      <td>0</td>\n",
       "      <td>0</td>\n",
       "      <td>1</td>\n",
       "      <td>1</td>\n",
       "      <td>1</td>\n",
       "      <td>0</td>\n",
       "      <td>4</td>\n",
       "      <td>0</td>\n",
       "      <td>1</td>\n",
       "      <td>0</td>\n",
       "    </tr>\n",
       "    <tr>\n",
       "      <th>1</th>\n",
       "      <td>0</td>\n",
       "      <td>0</td>\n",
       "      <td>1</td>\n",
       "      <td>0</td>\n",
       "      <td>1</td>\n",
       "      <td>0</td>\n",
       "      <td>0</td>\n",
       "      <td>1</td>\n",
       "      <td>1</td>\n",
       "      <td>0</td>\n",
       "      <td>...</td>\n",
       "      <td>1</td>\n",
       "      <td>0</td>\n",
       "      <td>1</td>\n",
       "      <td>0</td>\n",
       "      <td>0</td>\n",
       "      <td>0</td>\n",
       "      <td>0</td>\n",
       "      <td>0</td>\n",
       "      <td>0</td>\n",
       "      <td>0</td>\n",
       "    </tr>\n",
       "    <tr>\n",
       "      <th>2</th>\n",
       "      <td>1</td>\n",
       "      <td>1</td>\n",
       "      <td>0</td>\n",
       "      <td>0</td>\n",
       "      <td>0</td>\n",
       "      <td>1</td>\n",
       "      <td>0</td>\n",
       "      <td>0</td>\n",
       "      <td>0</td>\n",
       "      <td>0</td>\n",
       "      <td>...</td>\n",
       "      <td>0</td>\n",
       "      <td>0</td>\n",
       "      <td>0</td>\n",
       "      <td>0</td>\n",
       "      <td>0</td>\n",
       "      <td>4</td>\n",
       "      <td>0</td>\n",
       "      <td>0</td>\n",
       "      <td>0</td>\n",
       "      <td>0</td>\n",
       "    </tr>\n",
       "    <tr>\n",
       "      <th>3</th>\n",
       "      <td>0</td>\n",
       "      <td>0</td>\n",
       "      <td>0</td>\n",
       "      <td>0</td>\n",
       "      <td>0</td>\n",
       "      <td>0</td>\n",
       "      <td>1</td>\n",
       "      <td>3</td>\n",
       "      <td>4</td>\n",
       "      <td>2</td>\n",
       "      <td>...</td>\n",
       "      <td>0</td>\n",
       "      <td>0</td>\n",
       "      <td>0</td>\n",
       "      <td>0</td>\n",
       "      <td>0</td>\n",
       "      <td>0</td>\n",
       "      <td>1</td>\n",
       "      <td>0</td>\n",
       "      <td>0</td>\n",
       "      <td>1</td>\n",
       "    </tr>\n",
       "    <tr>\n",
       "      <th>4</th>\n",
       "      <td>0</td>\n",
       "      <td>0</td>\n",
       "      <td>0</td>\n",
       "      <td>0</td>\n",
       "      <td>0</td>\n",
       "      <td>0</td>\n",
       "      <td>0</td>\n",
       "      <td>0</td>\n",
       "      <td>0</td>\n",
       "      <td>0</td>\n",
       "      <td>...</td>\n",
       "      <td>0</td>\n",
       "      <td>0</td>\n",
       "      <td>0</td>\n",
       "      <td>0</td>\n",
       "      <td>3</td>\n",
       "      <td>1</td>\n",
       "      <td>0</td>\n",
       "      <td>0</td>\n",
       "      <td>0</td>\n",
       "      <td>3</td>\n",
       "    </tr>\n",
       "  </tbody>\n",
       "</table>\n",
       "<p>5 rows × 352 columns</p>\n",
       "</div>"
      ],
      "text/plain": [
       "   016  10  101  12  138  15  17  18  19  1920 ...  需求  面临  项目  预测  领先  领域  \\\n",
       "0    0   0    0   0    0   0   0   0   0     0 ...   0   0   1   1   1   0   \n",
       "1    0   0    1   0    1   0   0   1   1     0 ...   1   0   1   0   0   0   \n",
       "2    1   1    0   0    0   1   0   0   0     0 ...   0   0   0   0   0   4   \n",
       "3    0   0    0   0    0   0   1   3   4     2 ...   0   0   0   0   0   0   \n",
       "4    0   0    0   0    0   0   0   0   0     0 ...   0   0   0   0   3   1   \n",
       "\n",
       "   驾驶  高于  高速  龙头  \n",
       "0   4   0   1   0  \n",
       "1   0   0   0   0  \n",
       "2   0   0   0   0  \n",
       "3   1   0   0   1  \n",
       "4   0   0   0   3  \n",
       "\n",
       "[5 rows x 352 columns]"
      ]
     },
     "execution_count": 4,
     "metadata": {},
     "output_type": "execute_result"
    }
   ],
   "source": [
    "term_matrix.head()"
   ]
  },
  {
   "cell_type": "markdown",
   "metadata": {},
   "source": [
    "#### 3. 分类模型训练"
   ]
  },
  {
   "cell_type": "code",
   "execution_count": 5,
   "metadata": {},
   "outputs": [
    {
     "data": {
      "text/plain": [
       "0.8214285714285715"
      ]
     },
     "execution_count": 5,
     "metadata": {},
     "output_type": "execute_result"
    }
   ],
   "source": [
    "# 利用交叉验证法为模型在训练集内的表现评分\n",
    "\n",
    "from sklearn.naive_bayes import MultinomialNB\n",
    "nb = MultinomialNB() # 运用朴素贝叶斯分类算法\n",
    "from sklearn.pipeline import make_pipeline\n",
    "pipe = make_pipeline(vect, nb) # 构建数据处理管道对词汇进行朴素贝叶斯分类\n",
    "from sklearn.model_selection import cross_val_score\n",
    "cross_val_score(pipe, X_train.cut_words, y_train, cv=3, scoring='accuracy').mean() # 交叉验证"
   ]
  },
  {
   "cell_type": "markdown",
   "metadata": {},
   "source": [
    "#### 4. 分类模型测试"
   ]
  },
  {
   "cell_type": "code",
   "execution_count": 6,
   "metadata": {},
   "outputs": [
    {
     "data": {
      "text/plain": [
       "0.9130434782608695"
      ]
     },
     "execution_count": 6,
     "metadata": {},
     "output_type": "execute_result"
    }
   ],
   "source": [
    "# 将模型运用于测试集\n",
    "\n",
    "pipe.fit(X_train.cut_words, y_train)\n",
    "from sklearn import metrics\n",
    "y_pred = pipe.predict(X_test.cut_words)\n",
    "metrics.accuracy_score(y_true = y_test,y_pred = y_pred)"
   ]
  },
  {
   "cell_type": "code",
   "execution_count": 7,
   "metadata": {},
   "outputs": [
    {
     "data": {
      "text/plain": [
       "Text(0.5,16,'true label')"
      ]
     },
     "execution_count": 7,
     "metadata": {},
     "output_type": "execute_result"
    },
    {
     "data": {
      "image/png": "[encoded data removed]",
      "text/plain": [
       "<Figure size 432x288 with 1 Axes>"
      ]
     },
     "metadata": {},
     "output_type": "display_data"
    }
   ],
   "source": [
    "# 生成混沌矩阵\n",
    "\n",
    "from sklearn.metrics import confusion_matrix\n",
    "import seaborn as sns\n",
    "\n",
    "sns.set()\n",
    "mat = confusion_matrix(y_test, y_pred)\n",
    "sns.heatmap(mat.T, square=True, annot=True, fmt='d', cbar=False,\n",
    "            xticklabels=[0,1], yticklabels = [0,1])\n",
    "plt.ylabel('predict label')\n",
    "plt.xlabel('true label')"
   ]
  }
 ],
 "metadata": {
  "kernelspec": {
   "display_name": "Python 3",
   "language": "python",
   "name": "python3"
  },
  "language_info": {
   "codemirror_mode": {
    "name": "ipython",
    "version": 3
   },
   "file_extension": ".py",
   "mimetype": "text/x-python",
   "name": "python",
   "nbconvert_exporter": "python",
   "pygments_lexer": "ipython3",
   "version": "3.6.5"
  }
 },
 "nbformat": 4,
 "nbformat_minor": 2
}
